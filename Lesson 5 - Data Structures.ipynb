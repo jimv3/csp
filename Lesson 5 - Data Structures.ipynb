{
 "cells": [
  {
   "cell_type": "markdown",
   "metadata": {},
   "source": [
    "*Please execute the cell below before answering any questions. If you do not, the required support code will not be loaded and you may experience exceptions. If you forget, just come back and run the import cell then retry your answer.*"
   ]
  },
  {
   "cell_type": "code",
   "execution_count": null,
   "metadata": {},
   "outputs": [],
   "source": [
    "from lesson5 import main"
   ]
  },
  {
   "cell_type": "markdown",
   "metadata": {},
   "source": [
    "# Lesson 5 - Data Structures\n",
    "This lesson will cover some of the more common and basic data structures in computer science. You will learn about linked lists (forward-only and doubly-linked), stacks, queues, and trees (AVL and B-tree). One common thread that runs through these structures is that they use a **node** to store the information. These nodes are structures in and of themselves. They contain the object being held and a pointer or pointers to other nodes. In the case of a root node (the first node in the structure) or a terminating node (the last node in the structure), the pointer may be null.\n",
    "## Linked Lists\n",
    "Linked lists come in two basic forms. There are forward-only linked lists. These linked lists have nodes that contain the data and a pointer to the next node in the list. The program will maintain a pointer to the root node and can then iterate through the nodes by simply following the pointers. Once a node with *next* pointer of null (None in Python) is reached, the list has been fully iterated."
   ]
  },
  {
   "cell_type": "code",
   "execution_count": null,
   "metadata": {},
   "outputs": [],
   "source": [
    "# How many pointers are needed for the most simple node in a linked list?\n",
    "answer = 0 # Change answer to be the number of nodes you think are required\n",
    "main.check_answer('q1', answer)"
   ]
  },
  {
   "cell_type": "markdown",
   "metadata": {},
   "source": []
  },
  {
   "cell_type": "markdown",
   "metadata": {},
   "source": [
    "## Stacks"
   ]
  },
  {
   "cell_type": "markdown",
   "metadata": {},
   "source": [
    "## Queues"
   ]
  },
  {
   "cell_type": "markdown",
   "metadata": {},
   "source": [
    "## Trees"
   ]
  }
 ],
 "metadata": {
  "kernelspec": {
   "display_name": "Python 3",
   "language": "python",
   "name": "python3"
  },
  "language_info": {
   "codemirror_mode": {
    "name": "ipython",
    "version": 3
   },
   "file_extension": ".py",
   "mimetype": "text/x-python",
   "name": "python",
   "nbconvert_exporter": "python",
   "pygments_lexer": "ipython3",
   "version": "3.6.7"
  }
 },
 "nbformat": 4,
 "nbformat_minor": 2
}
