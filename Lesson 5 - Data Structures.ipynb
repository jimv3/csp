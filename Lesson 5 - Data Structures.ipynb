{
 "cells": [
  {
   "cell_type": "markdown",
   "metadata": {},
   "source": [
    "*Please execute the cell below before answering any questions. If you do not, the required support code will not be loaded and you may experience exceptions. If you forget, just come back and run the import cell then retry your answer.*"
   ]
  },
  {
   "cell_type": "code",
   "execution_count": null,
   "metadata": {},
   "outputs": [],
   "source": [
    "from lesson5 import main"
   ]
  },
  {
   "cell_type": "markdown",
   "metadata": {},
   "source": [
    "# Lesson 5 - Data Structures\n",
    "This lesson will cover some of the more common and basic data structures in computer science. You will learn about linked lists (forward-only and doubly-linked), stacks, queues, and trees (AVL and B-tree). One common thread that runs through these structures is that they use a **node** to store the information. These nodes are structures in and of themselves. They contain the object being held and a pointer or pointers to other nodes. In the case of a root node (the first node in the structure) or a terminating node (the last node in the structure), the pointer may be null.\n",
    "## Linked Lists\n",
    "A linked list is a collection of items, or data, that can expand at run time. Each element in the list is called a node. A node is an object that contains data and a pointer to other nodes in the list. Linked lists come in two basic forms. There are forward-only linked lists. These linked lists have nodes that contain the data and a pointer to the next node in the list. The program will maintain a pointer to the root node and can then iterate through the nodes by simply following the pointers. Once a node with *next* pointer of null (None in Python) is reached, the list has been fully iterated."
   ]
  },
  {
   "cell_type": "code",
   "execution_count": null,
   "metadata": {},
   "outputs": [],
   "source": [
    "# How many pointers are needed for the most simple node in a linked list?\n",
    "answer = 0 # Change answer to be the number of pointers you think are required\n",
    "main.check_answer('q1', answer)"
   ]
  },
  {
   "cell_type": "code",
   "execution_count": null,
   "metadata": {},
   "outputs": [],
   "source": [
    "# See if you can write the code to define a forward-only node\n",
    "# If you get stuck and want an example:\n",
    "#   Create an empty cell\n",
    "#   Type '%load lesson5/forward_only_node.py' (without the quotes)\n",
    "#   Execute the cell\n",
    "class Node(object):\n",
    "    pass"
   ]
  },
  {
   "cell_type": "markdown",
   "metadata": {},
   "source": [
    "The other basic form of a linked list is a doubly-linked list. A doubly-linked list can read forward or backward. In order to maintain a list like this a slightly more complex node is needed. This new node will need to store more information."
   ]
  },
  {
   "cell_type": "code",
   "execution_count": null,
   "metadata": {},
   "outputs": [],
   "source": [
    "# How many pointers are needed for a node in a doubly-linked list?\n",
    "answer = 0 # Change answer to be the number of pointers you think are required\n",
    "main.check_answer('q2', answer)"
   ]
  },
  {
   "cell_type": "code",
   "execution_count": null,
   "metadata": {},
   "outputs": [],
   "source": [
    "# See if you can write the code to define a node that can read forward or backward\n",
    "# If you get stuck and want an example:\n",
    "#   Create an empty cell\n",
    "#   Type '%load lesson5/forward_backward_node.py' (without the quotes)\n",
    "#   Execute the cell\n",
    "class Node(object):\n",
    "    pass"
   ]
  },
  {
   "cell_type": "markdown",
   "metadata": {},
   "source": [
    "Now that we have defined what the nodes look like it is time to discuss linked lists and doubly-linked lists. There is a base amount of functionality that is required for the lists to be usable. At a minimum you must be able to add nodes and iterate through the list. There are other methods that can be supported to improve functionality such as deleting nodes, searching for a given index, finding a list element with a certain value, and others depending on usage. For this lesson we are focusing on the required methods for a minimally useful linked list. Please feel free to write your own doubly-linked list (example available in **lesson5/doubly_linked_list_example.py**)."
   ]
  },
  {
   "cell_type": "code",
   "execution_count": null,
   "metadata": {},
   "outputs": [],
   "source": [
    "# Complete this structure for a linked list\n",
    "# If you get stuck and want an example:\n",
    "#   Create an empty cell\n",
    "#   Type '%load lesson5/linked_list_example.py' (without the quotes)\n",
    "#   Execute the cell\n",
    "class LinkedList(object):\n",
    "    def __init__(self):\n",
    "        pass\n",
    "    \n",
    "    def add_node(self, node):\n",
    "        pass\n",
    "    \n",
    "    def list_nodes(self):\n",
    "        pass"
   ]
  },
  {
   "cell_type": "code",
   "execution_count": null,
   "metadata": {},
   "outputs": [],
   "source": [
    "# Now let's put it all together and create a small list\n",
    "l = LinkedList()\n",
    "l.add_node(Node('one', None))\n",
    "l.add_node(Node('two', None))\n",
    "l.list_nodes()\n",
    "l.add_node(Node('three', None))\n",
    "l.list_nodes()"
   ]
  },
  {
   "cell_type": "markdown",
   "metadata": {},
   "source": [
    "## Stacks and Queues\n",
    "Stacks and queues are special implementations of a linked list. Each adds a few functions that are not necessarily part of the linked list implementation. Stacks are called last-in-first-out data structures. This means that the last element added to the stack is the one that is available to be retrieved. Stacks work much like the real world. If you stack plates then the one that is available next is the one just added to the top. Queues, on the other hand, are similar to lines in the real world. Queues are call first-in-first-out structures. In other words, when you add something to a queue it is not the element retrieved until all the previously added items have been removed.\n",
    "\n",
    "The interface (methods available) for each structure is as follows:  \n",
    "**Stack**\n",
    "- Push - adds an element to the stack\n",
    "- Pop - returns the most recently added item and removes it from the stack\n",
    "- Peek - returns the most recently added item but does not remove it from the stack\n",
    "\n",
    "**Queue**\n",
    "- Enqueue - adds an element to the queue\n",
    "- Dequeue - returns the 'front' item and removes it from the queue\n",
    "- Peek - returns the 'front' item but does not remove it from the queue"
   ]
  },
  {
   "cell_type": "code",
   "execution_count": null,
   "metadata": {},
   "outputs": [],
   "source": [
    "# Try to implement a stack on your own\n",
    "# If you get stuck and want an example:\n",
    "#   Create an empty cell\n",
    "#   Type '%load lesson5/stack_example.py' (without the quotes)\n",
    "#   Execute the cell\n",
    "# You might want to use one of the Node classes defined above, or\n",
    "#   you can create a stack specific Node if you choose\n",
    "class Stack(object):\n",
    "    def __init__(self):\n",
    "        pass\n",
    "    \n",
    "    def push(self, node):\n",
    "        pass\n",
    "    \n",
    "    def pop(self):\n",
    "        pass\n",
    "    \n",
    "    def peek(self):\n",
    "        pass\n",
    "    \n",
    "s = Stack()\n",
    "s.push(Node('one', None))\n",
    "s.push(Node('two', None))\n",
    "s.push(Node('three', None))\n",
    "\n",
    "while s.peek():\n",
    "    item = s.pop()\n",
    "    print(item.data)"
   ]
  },
  {
   "cell_type": "code",
   "execution_count": null,
   "metadata": {},
   "outputs": [],
   "source": [
    "# Try to implement a queue on your own\n",
    "# If you get stuck and want an example:\n",
    "#   Create an empty cell\n",
    "#   Type '%load lesson5/queue_example.py' (without the quotes)\n",
    "#   Execute the cell\n",
    "# You might want to use one of the Node classes defined above, or\n",
    "#   you can create a queue specific Node if you choose\n",
    "class Queue(object):\n",
    "    def __init__(self):\n",
    "        pass\n",
    "    \n",
    "    def enqueue(self, node):\n",
    "        pass\n",
    "    \n",
    "    def dequeue(self):\n",
    "        pass\n",
    "    \n",
    "    def peek(self):\n",
    "        pass\n",
    "    \n",
    "q = Queue()\n",
    "q.enqueue(Node('one', None))\n",
    "q.enqueue(Node('two', None))\n",
    "q.enqueue(Node('three', None))\n",
    "\n",
    "while q.peek():\n",
    "    item = q.dequeue()\n",
    "    print(item.data)"
   ]
  },
  {
   "cell_type": "markdown",
   "metadata": {},
   "source": [
    "## Trees\n",
    "The most basic, and common, type of tree is a binary tree. These trees are implemented with nodes that have pointers to left and right branches and/or a data element. Nodes that do not point to a further branch are called leaf nodes. An advantage to binary trees is that they also set up nicely for binary searches (introduced in [**Lesson 3**](Lesson%203%20-%20Searching.ipynb)). The tree maintains a pointer to the first node, often called the root. Below is the insertion pseudocode for a simple binary tree implementation.  \n",
    "<br>\n",
    "__Pseudocode__\n",
    "<pre>\n",
    "If root is null\n",
    "  root = node\n",
    "Else\n",
    "  If node < root\n",
    "    Initialize parent to root.left\n",
    "  Else\n",
    "    Initialize parent to root.right\n",
    "    \n",
    "  While parent is not null\n",
    "    If parent > node\n",
    "      If parent.left is not null\n",
    "        parent = parent.left\n",
    "      Else\n",
    "        parent.left = node\n",
    "        parent = null\n",
    "    Else\n",
    "      If parent.right is not null\n",
    "        parent = parent.right\n",
    "      Else\n",
    "        parent.right = node\n",
    "        parent = null\n",
    "</pre>"
   ]
  },
  {
   "cell_type": "code",
   "execution_count": null,
   "metadata": {},
   "outputs": [],
   "source": [
    "# Here is a very simple implementation of a tree Node and a Tree\n",
    "class TreeNode(object):\n",
    "    def __init__(self, data):\n",
    "        self._data = data\n",
    "        self._left = None\n",
    "        self._right = None\n",
    "        \n",
    "    @property\n",
    "    def data(self):\n",
    "        return self._data\n",
    "    \n",
    "    @property\n",
    "    def left(self):\n",
    "        return self._left\n",
    "    \n",
    "    @left.setter\n",
    "    def left(self, node):\n",
    "        self._left = node\n",
    "    \n",
    "    @property\n",
    "    def right(self):\n",
    "        return self._right\n",
    "    \n",
    "    @right.setter\n",
    "    def right(self, node):\n",
    "        self._right = node\n",
    "    \n",
    "class Tree(object):\n",
    "    def __init__(self):\n",
    "        self._root = None\n",
    "        \n",
    "    def add(self, node):\n",
    "        if not self._root:\n",
    "            self._root = node\n",
    "        else:\n",
    "            branch = None\n",
    "            if self._root.data > node._data:\n",
    "                if self._root.left is None:\n",
    "                    self._root.left = node\n",
    "                else:\n",
    "                    branch = self._root.left\n",
    "            else:\n",
    "                if self._root.right is None:\n",
    "                    self._root.right = node\n",
    "                else:\n",
    "                    branch = self._root.right\n",
    "                \n",
    "            while branch is not None:\n",
    "                if branch.data > node.data:\n",
    "                    print('taking left branch')\n",
    "                    if branch.left is None:\n",
    "                        branch.left = node\n",
    "                        branch = None\n",
    "                    else:\n",
    "                        branch = branch.left\n",
    "                else:\n",
    "                    print('taking right branch')\n",
    "                    if branch.right is None:\n",
    "                        branch.right = node\n",
    "                        branch = None\n",
    "                    else:\n",
    "                        branch = branch.right\n",
    "            # branch = node\n",
    "            # if self._root.left is None and self._root.right is None:\n",
    "            #     print('root is empty')\n",
    "    def list_nodes(self):\n",
    "        def print_node(node):\n",
    "            if node is None:\n",
    "                return\n",
    "            print(node.data)\n",
    "            print_node(node.left)\n",
    "            print_node(node.right)\n",
    "        \n",
    "        print_node(self._root)\n",
    "        \n",
    "t = Tree()\n",
    "t.add(TreeNode(7))\n",
    "t.add(TreeNode(3))\n",
    "t.add(TreeNode(9))\n",
    "t.add(TreeNode(2))\n",
    "t.add(TreeNode(20))\n",
    "t.list_nodes()"
   ]
  },
  {
   "cell_type": "markdown",
   "metadata": {},
   "source": [
    "#### Next Steps\n",
    "Using the above code as an example try improving the tree. There are some edge cases (e.g. adding a value twice) that aren't necessarily covered. Also, it would be nice to be able to search the tree to see if a value exists.\n",
    "#### Further Reading\n",
    "There are some special versions of trees ([avl trees](https://www.geeksforgeeks.org/avl-tree-set-1-insertion/) and [btrees](https://www.geeksforgeeks.org/b-tree-set-1-introduction-2/)) that try to keep the tree balanced which can help with search and the speed of execution. Trees can also keep track of more than left and right branches. You can also include a middle or even more branches."
   ]
  }
 ],
 "metadata": {
  "kernelspec": {
   "display_name": "Python 3",
   "language": "python",
   "name": "python3"
  },
  "language_info": {
   "codemirror_mode": {
    "name": "ipython",
    "version": 3
   },
   "file_extension": ".py",
   "mimetype": "text/x-python",
   "name": "python",
   "nbconvert_exporter": "python",
   "pygments_lexer": "ipython3",
   "version": "3.6.7"
  }
 },
 "nbformat": 4,
 "nbformat_minor": 2
}
