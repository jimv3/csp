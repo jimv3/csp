{
 "cells": [
  {
   "cell_type": "markdown",
   "metadata": {},
   "source": [
    "*Please execute the cell below before answering any questions. If you do not, the required support code will not be loaded and you may experience exceptions. If you forget, just come back and run the import cell then retry your answer*"
   ]
  },
  {
   "cell_type": "code",
   "execution_count": null,
   "metadata": {},
   "outputs": [],
   "source": [
    "import lesson2\n",
    "import cell_helpers"
   ]
  },
  {
   "cell_type": "markdown",
   "metadata": {},
   "source": [
    "# Lesson 2 - Sorting"
   ]
  },
  {
   "cell_type": "markdown",
   "metadata": {},
   "source": [
    "This lesson assumes understanding of Big O notation. If you need a refresher please see __[Lesson 1 ](Lesson%201%20-%20Big%20O%20Notation.ipynb)__. We will be discussing various sorting algorithms both from an implementation standpoint and from an efficiency standpoint. In this lesson we will cover bubble sort, insertion sort, merge sort, quick sort, and selection sort."
   ]
  },
  {
   "cell_type": "markdown",
   "metadata": {},
   "source": [
    "## Bubble Sort"
   ]
  },
  {
   "cell_type": "markdown",
   "metadata": {},
   "source": [
    "The bubble sort works by letting values *bubble* to the top. This algorithm actually works in reverse order. At the end of the first pass the largest element, or the element that comes last in the sorted collection, will be in its proper place. This algorithm requires n-1 passes to completely sort the list, where n is the number of items in the collection."
   ]
  },
  {
   "cell_type": "markdown",
   "metadata": {},
   "source": [
    "__Pseudocode__  \n",
    "<pre>\n",
    "Initialize counter k to zero\n",
    "Initialize boolean exchange_made to True\n",
    "While k < n\n",
    "  Set exchange_made to False\n",
    "  Increment k\n",
    "  For each j from 0 to n-k\n",
    "    If entry in j slot > entry in (j+1) slot\n",
    "      Exchange the entries\n",
    "      Set exchange_made to True\n",
    "</pre>"
   ]
  },
  {
   "cell_type": "code",
   "execution_count": null,
   "metadata": {},
   "outputs": [],
   "source": [
    "unsorted_list = [1, 9, 3, 0, 6]\n",
    "# Try to implement the bubble sort on your own.\n",
    "# If you get stuck:\n",
    "#   Create a cell below this one \n",
    "#   Type '%load bubble_sort_example.py' (without the quotes)\n",
    "#   Execute the cell (to run the sample algorithm execute the cell a second time once the code is loaded)\n",
    "def bubble_sort(items):\n",
    "    pass\n",
    "\n",
    "sorted_list = bubble_sort(unsorted_list)\n",
    "sorted_list"
   ]
  },
  {
   "cell_type": "markdown",
   "metadata": {},
   "source": [
    "Based on your understanding of Big O notation, what do you think is the Big O for bubble sort?"
   ]
  },
  {
   "cell_type": "code",
   "execution_count": null,
   "metadata": {},
   "outputs": [],
   "source": [
    "# Change your answer to be in the form of 'O(n)' (be sure to use quotes).\n",
    "# For exponents use ** (e.g. n**3 for n cubed)\n",
    "my_answer = 'O(1)'\n",
    "lesson2.check_answer('bubble_sort', my_answer)"
   ]
  },
  {
   "cell_type": "markdown",
   "metadata": {},
   "source": [
    "## Insertion Sort"
   ]
  },
  {
   "cell_type": "markdown",
   "metadata": {},
   "source": [
    "The insertion sort can reduce the number of data interchanges compared to the bubble sort. However, it does not allow an automatic loop exit if the array becomes ordered during an early pass. Due to this the bubble sort is often more efficient."
   ]
  },
  {
   "cell_type": "markdown",
   "metadata": {},
   "source": [
    "__Pseudocode__  \n",
    "<pre>\n",
    "For each k from 1 to n-1\n",
    "  Set item_to_insert to list[k]\n",
    "  Set j to k-1\n",
    "  While insertion position is not found and not beginning of array\n",
    "    If item_to_insert < list[j]\n",
    "      Move list[j] to index position j+1\n",
    "      Decrement j by 1\n",
    "    Else\n",
    "      The insertion position has been found\n",
    "  item_to_insert should be positioned at index j+1\n",
    "</pre>"
   ]
  },
  {
   "cell_type": "code",
   "execution_count": null,
   "metadata": {},
   "outputs": [],
   "source": [
    "unsorted_list = [1, 9, 3, 0, 6]\n",
    "# Try to implement the insertion sort on your own.\n",
    "# If you get stuck:\n",
    "#   Create a cell below this one \n",
    "#   Type '%load insertion_sort_example.py' (without the quotes)\n",
    "#   Execute the cell (to run the sample algorithm execute the cell a second time once the code is loaded)\n",
    "def insertion_sort(items):\n",
    "    pass\n",
    "\n",
    "sorted_list = insertion_sort(unsorted_list)\n",
    "sorted_list"
   ]
  },
  {
   "cell_type": "markdown",
   "metadata": {},
   "source": [
    "Based on your understanding of Big O notation, what do you think is the Big O for insertion sort?"
   ]
  },
  {
   "cell_type": "code",
   "execution_count": null,
   "metadata": {},
   "outputs": [],
   "source": [
    "# Change your answer to be in the form of 'O(n)' (be sure to use quotes).\n",
    "# For exponents use ** (e.g. n**3 for n cubed)\n",
    "my_answer = 'O(1)'\n",
    "lesson2.check_answer('insertion_sort', my_answer)"
   ]
  },
  {
   "cell_type": "markdown",
   "metadata": {},
   "source": [
    "## Merge Sort"
   ]
  },
  {
   "cell_type": "markdown",
   "metadata": {},
   "source": [
    "The merge sort works by splitting the list into smaller and smaller lists and then recombining each smaller list in a sorted order back into the larger list. Most implementatins use __[recursion](Lesson%204%20-%20Recursion.ipynb)__ but the algorithm can also be implemented using loops. It is fair to note that the merge sort itself is relatively simple. The real work takes place in the merge."
   ]
  },
  {
   "cell_type": "markdown",
   "metadata": {},
   "source": [
    "__Pseudocode (Merge Sort)__  \n",
    "<pre>\n",
    "Set current_size to 1\n",
    "  While current_size < n-1\n",
    "    Set left to 0\n",
    "    While left < n-1\n",
    "      Set mid to left + current_size-1\n",
    "      If 2*current_size + left-1 > n-1\n",
    "        Set right to n-1\n",
    "      Else\n",
    "        Set right to 2*current_size + left-1\n",
    "      Merge based on list and left, mid, right\n",
    "      Set left to left + current_size*2\n",
    "    Multiply current_size by 2\n",
    "</pre>\n",
    "\n",
    "__Pseudocode (Merge)__\n",
    "<pre>\n",
    "</pre>"
   ]
  },
  {
   "cell_type": "code",
   "execution_count": null,
   "metadata": {},
   "outputs": [],
   "source": [
    "unsorted_list = [1, 9, 3, 0, 6]\n",
    "# Try to implement the merge sort on your own. You can do this recursively or using loops\n",
    "# If you get stuck:\n",
    "#   Create a cell below this one \n",
    "#   Type '%load merge_sort_example.py' (without the quotes)\n",
    "#   Execute the cell (to run the sample algorithm execute the cell a second time once the code is loaded)\n",
    "def merge_sort(items):\n",
    "    pass\n",
    "\n",
    "sorted_list = merge_sort(unsorted_list)\n",
    "sorted_list"
   ]
  },
  {
   "cell_type": "markdown",
   "metadata": {},
   "source": [
    "Based on your understanding of Big O notaion, what do you think is the Big O for merge sort?"
   ]
  },
  {
   "cell_type": "code",
   "execution_count": null,
   "metadata": {},
   "outputs": [],
   "source": [
    "# Change your answer to be in the form of 'O(n)' (be sure to use quotes).\n",
    "# For exponents use ** (e.g. n**3 for n cubed)\n",
    "my_answer = 'O(1)'\n",
    "lesson2.check_answer('merge_sort', my_answer)"
   ]
  },
  {
   "cell_type": "markdown",
   "metadata": {},
   "source": [
    "## Quick Sort"
   ]
  },
  {
   "cell_type": "markdown",
   "metadata": {},
   "source": [
    "The quick sort relies on another algorithm that can partition a list into two lists. The partitioning works by moving a *pivot* the correct number of positions for it to end up in its final destination. This ends up reducing the number of data interchanges required to sort the list. Quick sort is another algorithm that is frequently solved using __[recursion](Lesson%204%20-%20Recursion.ipynb)__."
   ]
  },
  {
   "cell_type": "markdown",
   "metadata": {},
   "source": [
    "__Pseudocode__  \n",
    "<pre>\n",
    "</pre>"
   ]
  },
  {
   "cell_type": "code",
   "execution_count": null,
   "metadata": {},
   "outputs": [],
   "source": [
    "unsorted_list = [1, 9, 3, 0, 6]\n",
    "# Try to implement the quick sort on your own.\n",
    "# If you get stuck:\n",
    "#   Create a cell below this one \n",
    "#   Type '%load quick_sort_example.py' (without the quotes)\n",
    "#   Execute the cell (to run the sample algorithm execute the cell a second time once the code is loaded)\n",
    "def quick_sort(items):\n",
    "    pass\n",
    "\n",
    "sorted_list = quick_sort(unsorted_list)\n",
    "sorted_list"
   ]
  },
  {
   "cell_type": "markdown",
   "metadata": {},
   "source": [
    "Based on your understanding of Big O notation, what do you think is the Big O for quick sort?"
   ]
  },
  {
   "cell_type": "code",
   "execution_count": null,
   "metadata": {},
   "outputs": [],
   "source": [
    "# Change your answer to be in the form of 'O(n)' (be sure to use quotes).\n",
    "# For exponents use ** (e.g. n**3 for n cubed)\n",
    "my_answer = 'O(1)'\n",
    "lesson2.check_answer('quick_sort', my_answer)"
   ]
  },
  {
   "cell_type": "markdown",
   "metadata": {},
   "source": [
    "## Selection Sort"
   ]
  },
  {
   "cell_type": "markdown",
   "metadata": {},
   "source": [
    "The selection sort works by placing the smallest unsorted element in its proper position. In other words, after the initial pass the first element in the list will be in its correct position. This algorithm requires n-1 passes to completely sort the list, where n is the number of items in the collection."
   ]
  },
  {
   "cell_type": "markdown",
   "metadata": {},
   "source": [
    "__Pseudocode__  \n",
    "<pre>\n",
    "For each index poisition I\n",
    "  Find the smallest data value in the list from I through the length of the list - 1\n",
    "  Exchange the smallest value with the value at position I\n",
    "</pre>"
   ]
  },
  {
   "cell_type": "code",
   "execution_count": null,
   "metadata": {},
   "outputs": [],
   "source": [
    "unsorted_list = [1, 9, 3, 0, 6]\n",
    "# Try to implement the selection sort on your own.\n",
    "# If you get stuck:\n",
    "#   Create a cell below this one \n",
    "#   Type '%load selection_sort_example.py' (without the quotes)\n",
    "#   Execute the cell (to run the sample algorithm execute the cell a second time once the code is loaded)\n",
    "def selection_sort(items):\n",
    "    pass\n",
    "\n",
    "sorted_list = selection_sort(unsorted_list)\n",
    "sorted_list"
   ]
  },
  {
   "cell_type": "markdown",
   "metadata": {},
   "source": [
    "Based on your understanding of Big O notation, what do you think is the Big O for selection sort?"
   ]
  },
  {
   "cell_type": "code",
   "execution_count": null,
   "metadata": {},
   "outputs": [],
   "source": [
    "# Change your answer to be in the form of 'O(n)' (be sure to use quotes).\n",
    "# For exponents use ** (e.g. n**3 for n cubed)\n",
    "my_answer = 'O(1)'\n",
    "lesson2.check_answer('selection_sort', my_answer)"
   ]
  }
 ],
 "metadata": {
  "kernelspec": {
   "display_name": "Python 3",
   "language": "python",
   "name": "python3"
  },
  "language_info": {
   "codemirror_mode": {
    "name": "ipython",
    "version": 3
   },
   "file_extension": ".py",
   "mimetype": "text/x-python",
   "name": "python",
   "nbconvert_exporter": "python",
   "pygments_lexer": "ipython3",
   "version": "3.7.1"
  }
 },
 "nbformat": 4,
 "nbformat_minor": 2
}
