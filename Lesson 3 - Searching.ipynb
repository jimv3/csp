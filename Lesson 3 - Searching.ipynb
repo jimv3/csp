{
 "cells": [
  {
   "cell_type": "markdown",
   "metadata": {},
   "source": [
    "*Please execute the cell below before answering any questions. If you do not, the required support code will not be loaded and you may experience exceptions. If you forget, just come back and run the import cell then retry your answer.*"
   ]
  },
  {
   "cell_type": "code",
   "execution_count": null,
   "metadata": {},
   "outputs": [],
   "source": [
    "import lesson3.main as main\n",
    "import helpers.cell_helpers"
   ]
  },
  {
   "cell_type": "markdown",
   "metadata": {},
   "source": [
    "# Lesson 3 - Searching"
   ]
  },
  {
   "cell_type": "markdown",
   "metadata": {},
   "source": [
    "This lesson assumes understanding of Big O notation. If you need a refresher please see __[Lesson 1](Lesson%201%20-%20Big%20O%20Notation.ipynb)__. Also, it may be helpful to review __[Lesson 2](Lesson%202%20-%20Sorting.ipynb)__ if you are unfamiliar with sorting. We will be discussing search algorithms both from an implementation standpoint and from an efficiency standpoint. In this lesson we will cover binary search, indexed search, sequential search, and do an introduction to tree search."
   ]
  },
  {
   "cell_type": "markdown",
   "metadata": {},
   "source": [
    "## Binary Search"
   ]
  },
  {
   "cell_type": "markdown",
   "metadata": {},
   "source": [
    "The binary search algorithm is very efficient if you don't know exactly where an element appears in a list. It operates by continuously reducing the list by half. One caveat is that the list must be in sorted order. If the list is not sorted binary search cannot guarantee to find the element if it exists in the list."
   ]
  },
  {
   "cell_type": "markdown",
   "metadata": {},
   "source": [
    "__Pseudocode__\n",
    "<pre>\n",
    "Initialize index low to be 0\n",
    "Initialize index high to be number of elements in the list-1\n",
    "Initialize index middle to be (high-low)/2\n",
    "While element is not found\n",
    "  If list[middle] equals the target\n",
    "    Search is finished\n",
    "    Return true\n",
    "  Else if list[middle] < target\n",
    "    Set low to middle + 1\n",
    "  Else\n",
    "    Set high to middle - 1\n",
    "  \n",
    "  if high is equal to low\n",
    "    Search is finished\n",
    "Return false\n",
    "</pre>"
   ]
  },
  {
   "cell_type": "code",
   "execution_count": null,
   "metadata": {},
   "outputs": [],
   "source": []
  },
  {
   "cell_type": "markdown",
   "metadata": {},
   "source": [
    "Based on your understanding of Big O notation, what do you think is the Big O for binary search?"
   ]
  },
  {
   "cell_type": "code",
   "execution_count": null,
   "metadata": {},
   "outputs": [],
   "source": [
    "# Change your answer to be in the form of 'O(n)' (be sure to use quotes).\n",
    "# For exponents use ** (e.g. n**3 for n cubed)\n",
    "my_answer = 'O(1)'\n",
    "main.check_answer('binary_search', my_answer)"
   ]
  },
  {
   "cell_type": "markdown",
   "metadata": {},
   "source": [
    "## Indexed Search"
   ]
  },
  {
   "cell_type": "markdown",
   "metadata": {},
   "source": [
    "Indexed searching is quite different from the binary search. For one thing, indexed searching does not require a sorted list. Since it works by going directly to the index of the element you are seeking the algorithm is simply to retrieve the element at the given index. To be more robust it would be prudent to ensure the index is within the range of the list. Another difference is that some sort of mechanism for storing the indexes must be introduced. The can be accomplished using a secondary list, or more commonly, by using a function that can calculate the index given the element's value (a hashing function for example)."
   ]
  },
  {
   "cell_type": "markdown",
   "metadata": {},
   "source": [
    "The implementation of indexed search in its simplest form is `return list[index]`. Because of this simplicity we won't have an excercise in implementing the search."
   ]
  },
  {
   "cell_type": "markdown",
   "metadata": {},
   "source": [
    "Based on your understanding of Big O notation, what do you think is the Big O for indexed search?"
   ]
  },
  {
   "cell_type": "code",
   "execution_count": null,
   "metadata": {},
   "outputs": [],
   "source": [
    "# Change your answer to be in the form of 'O(n)' (be sure to use quotes).\n",
    "# For exponents use ** (e.g. n**3 for n cubed)\n",
    "my_answer = 'O(1)'\n",
    "main.check_answer('indexed_search', my_answer)"
   ]
  },
  {
   "cell_type": "markdown",
   "metadata": {},
   "source": [
    "## Sequential Search"
   ]
  },
  {
   "cell_type": "markdown",
   "metadata": {},
   "source": [
    "## Tree Search"
   ]
  },
  {
   "cell_type": "markdown",
   "metadata": {},
   "source": [
    "I recommend reading this [article](https://www.geeksforgeeks.org/tree-traversals-inorder-preorder-and-postorder/) for a more in-depth look at tree searches. It may be helpful to review __[Lesson 5](Lesson%205%20-%20Data%20Structures.ipynb)__ first."
   ]
  }
 ],
 "metadata": {
  "kernelspec": {
   "display_name": "Python 3",
   "language": "python",
   "name": "python3"
  },
  "language_info": {
   "codemirror_mode": {
    "name": "ipython",
    "version": 3
   },
   "file_extension": ".py",
   "mimetype": "text/x-python",
   "name": "python",
   "nbconvert_exporter": "python",
   "pygments_lexer": "ipython3",
   "version": "3.7.1"
  }
 },
 "nbformat": 4,
 "nbformat_minor": 2
}
