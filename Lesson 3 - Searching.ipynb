{
 "cells": [
  {
   "cell_type": "markdown",
   "metadata": {},
   "source": [
    "*Please execute the cell below before answering any questions. If you do not, the required support code will not be loaded and you may experience exceptions. If you forget, just come back and run the import cell then retry your answer.*"
   ]
  },
  {
   "cell_type": "code",
   "execution_count": null,
   "metadata": {},
   "outputs": [],
   "source": [
    "from lesson3 import main"
   ]
  },
  {
   "cell_type": "markdown",
   "metadata": {},
   "source": [
    "# Lesson 3 - Searching\n",
    "This lesson assumes understanding of Big O notation. If you need a refresher please see __[Lesson 1](Lesson%201%20-%20Big%20O%20Notation.ipynb)__. Also, it may be helpful to review __[Lesson 2](Lesson%202%20-%20Sorting.ipynb)__ if you are unfamiliar with sorting. We will be discussing search algorithms both from an implementation standpoint and from an efficiency standpoint. In this lesson we will cover binary search, indexed search, sequential search, and do an introduction to tree search."
   ]
  },
  {
   "cell_type": "markdown",
   "metadata": {},
   "source": [
    "## <a name=\"binary_search\"></a> Binary Search\n",
    "The binary search algorithm is very efficient if you don't know exactly where an element appears in a list. It operates by continuously reducing the list by half. One caveat is that the list must be in sorted order. If the list is not sorted binary search cannot guarantee to find the element if it exists in the list.  \n",
    "<br>\n",
    "__Pseudocode__\n",
    "<pre>\n",
    "Initialize index low to be 0\n",
    "Initialize index high to be number of elements in the list\n",
    "Initialize middle to be ((high+low)/2)-1\n",
    "While low < high and element is not found\n",
    "  Set middle to be ((high+low)/2)-1\n",
    "  If list[middle] equals the target\n",
    "    Search is finished\n",
    "    Return true\n",
    "  Else if list[middle] < target\n",
    "    Set low to middle + 1\n",
    "  Else\n",
    "    Set high to middle - 1\n",
    "  if high is equal to low\n",
    "    Search is finished\n",
    "Return false\n",
    "</pre>"
   ]
  },
  {
   "cell_type": "code",
   "execution_count": null,
   "metadata": {},
   "outputs": [],
   "source": [
    "list = [0, 1, 3, 6, 9, 11, 13, 17, 20, 28, 32, 34, 39, 42, 44, 48, 50, 55, 60, 70, 85]\n",
    "# Try to implement the binary search on your own.\n",
    "# If you get stuck:\n",
    "#   Create a cell below this one \n",
    "#   Type '%load lesson3/binary_search_example.py' (without the quotes)\n",
    "#   Execute the cell (to run the sample algorithm execute the cell a second time once the code is loaded)\n",
    "def binary_search(items, element):\n",
    "    return False\n",
    "\n",
    "found = binary_search(list, 60)\n",
    "found"
   ]
  },
  {
   "cell_type": "markdown",
   "metadata": {},
   "source": [
    "Based on your understanding of Big O notation, what do you think is the Big O for binary search?"
   ]
  },
  {
   "cell_type": "code",
   "execution_count": null,
   "metadata": {},
   "outputs": [],
   "source": [
    "# Change your answer to be in the form of 'O(n)' (be sure to use quotes).\n",
    "# For exponents use ** (e.g. n**3 for n cubed)\n",
    "my_answer = 'O(1)'\n",
    "main.check_answer('binary_search', my_answer)"
   ]
  },
  {
   "cell_type": "markdown",
   "metadata": {},
   "source": [
    "## Indexed Search\n",
    "Indexed searching is quite different from the binary search. For one thing, indexed searching does not require a sorted list. Since it works by going directly to the index of the element you are seeking the algorithm is simply to retrieve the element at the given index. To be more robust it would be prudent to ensure the index is within the range of the list. Another difference is that some sort of mechanism for storing the indexes must be introduced. The can be accomplished using a secondary list, or more commonly, by using a function that can calculate the index given the element's value (a hashing function for example)."
   ]
  },
  {
   "cell_type": "code",
   "execution_count": null,
   "metadata": {},
   "outputs": [],
   "source": [
    "list = [0, 1, 3, 6, 9, 11, 13, 17, 20, 28, 32, 34, 39, 42, 44, 48, 50, 55, 60, 70, 85]\n",
    "# Try to implement the indexed search on your own.\n",
    "# If you get stuck:\n",
    "#   Create a cell below this one \n",
    "#   Type '%load lesson3/indexed_search_example.py' (without the quotes)\n",
    "#   Execute the cell (to run the sample algorithm execute the cell a second time once the code is loaded)\n",
    "def indexed_search(items, element, index):\n",
    "    return False\n",
    "\n",
    "found = indexed_search(list, 60, 18)\n",
    "found"
   ]
  },
  {
   "cell_type": "markdown",
   "metadata": {},
   "source": [
    "Based on your understanding of Big O notation, what do you think is the Big O for indexed search?"
   ]
  },
  {
   "cell_type": "code",
   "execution_count": null,
   "metadata": {},
   "outputs": [],
   "source": [
    "# Change your answer to be in the form of 'O(n)' (be sure to use quotes).\n",
    "# For exponents use ** (e.g. n**3 for n cubed)\n",
    "my_answer = 'O(1)'\n",
    "main.check_answer('indexed_search', my_answer)"
   ]
  },
  {
   "cell_type": "markdown",
   "metadata": {},
   "source": [
    "## Sequential Search\n",
    "The sequential search algorithm may be one of the simplest to implement. The algorithm starts at the beginning of the list and iterates through each element until a match is found, returning true, or until the end of the list is reached, returning false."
   ]
  },
  {
   "cell_type": "code",
   "execution_count": null,
   "metadata": {},
   "outputs": [],
   "source": [
    "list = [0, 1, 3, 6, 9, 11, 13, 17, 20, 28, 32, 34, 39, 42, 44, 48, 50, 55, 60, 70, 85]\n",
    "# Try to implement the sequential search on your own.\n",
    "# If you get stuck:\n",
    "#   Create a cell below this one \n",
    "#   Type '%load lesson3/sequential_search_example.py' (without the quotes)\n",
    "#   Execute the cell (to run the sample algorithm execute the cell a second time once the code is loaded)\n",
    "def sequential_search(items, item):\n",
    "    return False\n",
    "\n",
    "found = sequential_search(list, 60)\n",
    "found"
   ]
  },
  {
   "cell_type": "markdown",
   "metadata": {},
   "source": [
    "Based on your understanding of Big O notation, what do you think is the Big O for sequential search?"
   ]
  },
  {
   "cell_type": "code",
   "execution_count": null,
   "metadata": {},
   "outputs": [],
   "source": [
    "# Change your answer to be in the form of 'O(n)' (be sure to use quotes).\n",
    "# For exponents use ** (e.g. n**3 for n cubed)\n",
    "my_answer = 'O(1)'\n",
    "main.check_answer('sequential_search', my_answer)"
   ]
  },
  {
   "cell_type": "markdown",
   "metadata": {},
   "source": [
    "## Tree Search\n",
    "The tree search algorithm is a modified version of the [binary search](#binary_search) algorithm. Trees will not be covered until __[Lesson 5](Lesson%205%20-%20Data%20Structures.ipynb)__ but suffice to say that the tree search algorithm is an efficient search.  \n",
    "<br>\n",
    "Based on your understanding of Big O notation, what do you think is the Big O for tree search?"
   ]
  },
  {
   "cell_type": "code",
   "execution_count": null,
   "metadata": {},
   "outputs": [],
   "source": [
    "# Change your answer to be in the form of 'O(n)' (be sure to use quotes).\n",
    "# For exponents use ** (e.g. n**3 for n cubed)\n",
    "my_answer = 'O(1)'\n",
    "main.check_answer('tree_search', my_answer)"
   ]
  },
  {
   "cell_type": "markdown",
   "metadata": {},
   "source": [
    "This [article](https://www.geeksforgeeks.org/tree-traversals-inorder-preorder-and-postorder/) is recommended reading for a more in-depth look at tree searches."
   ]
  }
 ],
 "metadata": {
  "kernelspec": {
   "display_name": "Python 3",
   "language": "python",
   "name": "python3"
  },
  "language_info": {
   "codemirror_mode": {
    "name": "ipython",
    "version": 3
   },
   "file_extension": ".py",
   "mimetype": "text/x-python",
   "name": "python",
   "nbconvert_exporter": "python",
   "pygments_lexer": "ipython3",
   "version": "3.6.7"
  }
 },
 "nbformat": 4,
 "nbformat_minor": 2
}
