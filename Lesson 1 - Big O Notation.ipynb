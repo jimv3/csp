{
 "cells": [
  {
   "cell_type": "markdown",
   "metadata": {},
   "source": [
    "*Please execute the cell below before answering any questions. If you do not, the required support code will not be loaded and you may experience exceptions. If you forget, just come back and run the import cell then retry your answer*"
   ]
  },
  {
   "cell_type": "code",
   "execution_count": null,
   "metadata": {},
   "outputs": [],
   "source": [
    "import lesson1\n",
    "import cell_helpers"
   ]
  },
  {
   "cell_type": "markdown",
   "metadata": {},
   "source": [
    "# Lesson 1 - Big O Notation"
   ]
  },
  {
   "cell_type": "markdown",
   "metadata": {},
   "source": [
    "Big O is a way to discuss the growth of functions by describing the time efficiency of those functions. In other words, as the algorithm has to process more information, what happens to the time it takes to process that information. As we discuss time in Big O we really mean \"relative\" time. An algorithm's Big O does not change from computing device to computing device. The algorithm will run faster on modern hardware than it does on older hardware but compared to other algorithms that solve the same problem it's time efficiency stays relatively the same as compared to those other algorithms. "
   ]
  },
  {
   "cell_type": "markdown",
   "metadata": {},
   "source": [
    "Let's look at a simple example:"
   ]
  },
  {
   "cell_type": "code",
   "execution_count": null,
   "metadata": {},
   "outputs": [],
   "source": [
    "# Given the following function, indicate what you think the Big O is based on the information given so far\n",
    "def do_summation(input):\n",
    "    sum = 0\n",
    "    for x in input:\n",
    "        sum += x\n",
    "    return sum\n",
    "\n",
    "# Possible answers\n",
    "a = \"O(n^2)\"\n",
    "b = \"O(1)\"\n",
    "c = \"O(n)\"\n",
    "my_answer = None # change my_answer to match the letter you choose\n",
    "lesson1.q1(my_answer)"
   ]
  },
  {
   "cell_type": "markdown",
   "metadata": {},
   "source": [
    "The correct answer to the question above is (c). The reason for this is that the time of the function increases relative to the size of the input. O(n) is how we represent an algorithm whose time efficiency is directly correlated to the size of the data being processed. O(1) represents a constant time algorithm. In other words, if the size of the input increases or decreases there is no change in how long the algorithm takes to complete. We will see an example of that shortly. When we see O(n<sup>2</sup>) that means the function's execution time is relative to the square of the size of input. An input of size 8 will take approximately 16 times longer to execute than an input of size 2 and so on."
   ]
  },
  {
   "cell_type": "markdown",
   "metadata": {},
   "source": [
    "Let's now consider a function with a constant time efficiency."
   ]
  },
  {
   "cell_type": "code",
   "execution_count": null,
   "metadata": {},
   "outputs": [],
   "source": [
    "def get_element(input, index):\n",
    "    return input[index]"
   ]
  },
  {
   "cell_type": "markdown",
   "metadata": {},
   "source": [
    "The function above has constant time, O(1), because there is no looping. By providing an index, the exact element is found immediately, regardless of how many items are in the input."
   ]
  },
  {
   "cell_type": "markdown",
   "metadata": {},
   "source": [
    "When dealing with multiple loops, Big O is determined either as a sum or as a product. If the loops appear one after the other, then the sum of the Big O for the individual loops is used to describe the Big O for the algorithm. On the other hand, if the loops are nested, then the Big O for the algorithm is the product of the Big O for the individual loops."
   ]
  },
  {
   "cell_type": "code",
   "execution_count": null,
   "metadata": {},
   "outputs": [],
   "source": [
    "# Given the following function, indicate what you think the Big O is \n",
    "def do_pairwise_summation(input):\n",
    "    sum = 0\n",
    "    for x in input:\n",
    "        for y in input:\n",
    "            sum += x + y\n",
    "    return sum\n",
    "\n",
    "# Possible answers\n",
    "a = \"O(n^2)\"\n",
    "b = \"O(1)\"\n",
    "c = \"O(n)\"\n",
    "my_answer = None # change my_answer to match the letter you choose\n",
    "lesson1.q2(my_answer)"
   ]
  },
  {
   "cell_type": "code",
   "execution_count": null,
   "metadata": {},
   "outputs": [],
   "source": [
    "# Given the following function, indicate what you think the Big O is \n",
    "def do_summation(input1, input2):\n",
    "    sum = 0\n",
    "    for x in input:\n",
    "        sum += x\n",
    "    for y in input:\n",
    "        sum += y\n",
    "    return sum\n",
    "\n",
    "# Possible answers\n",
    "a = \"O(n^2)\"\n",
    "b = \"O(1)\"\n",
    "c = \"O(m + n)\"\n",
    "my_answer = None # change my_answer to match the letter you choose\n",
    "lesson1.q3(my_answer)"
   ]
  },
  {
   "cell_type": "markdown",
   "metadata": {},
   "source": [
    "When Big O is a polynomial function only the \"dominant\" exponent is considered. For example, if the Big O is n<sup>2</sup>+ n then it is just O(n^2). Here is a simple table of common Big O values that shows which terms are dominant(Lamber, Nance & Naps, 1996):<br>\n",
    "*n dominates log<sub>a</sub>n, a is typically 2<br>\n",
    "n log<sub>a</sub>n dominates n, a is typically 2<br>\n",
    "n<sup>2</sup> dominates n log<sub>a</sub>n<br>\n",
    "n<sup>m</sup> dominates n<sup>k</sup> when m > k<br>\n",
    "a<sup>n</sup> dominates n<sup>m</sup> for any a > 1 and m >= 0*"
   ]
  },
  {
   "cell_type": "markdown",
   "metadata": {},
   "source": [
    "It should also be noted that Big O only addresses the upper bound, or theoretical worst case for the efficiency of a function. Big O does not address lower bounds, or best case scenarios. In other words, if it is possible for an algorithm to exit early, Big O has no way to represent that situation."
   ]
  }
 ],
 "metadata": {
  "kernelspec": {
   "display_name": "Python 3",
   "language": "python",
   "name": "python3"
  },
  "language_info": {
   "codemirror_mode": {
    "name": "ipython",
    "version": 3
   },
   "file_extension": ".py",
   "mimetype": "text/x-python",
   "name": "python",
   "nbconvert_exporter": "python",
   "pygments_lexer": "ipython3",
   "version": "3.7.1"
  }
 },
 "nbformat": 4,
 "nbformat_minor": 2
}
