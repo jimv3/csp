{
 "cells": [
  {
   "cell_type": "markdown",
   "metadata": {},
   "source": [
    "# Lesson 4 - Recursion\n",
    "Recursion is when functions call themselves. Instead of writing loops, some problems can be solved more elegantly by using recursion. In this lesson you will learn about how recursion works and have an opportunity to rewrite some of the algorithms from previous lessons using recursion."
   ]
  },
  {
   "cell_type": "markdown",
   "metadata": {},
   "source": [
    "## When To Use Recursion\n",
    "First, there is a caveat regarding recursion. Depending on the system, and how recursion is supported, sometimes it is not very efficient to solve a problem recursively. Having said that, the functions that lend themselves best to recursion are those functions where the output of <b>x</b> is based on the function of <b>x - 1</b>.  \n",
    "<br>\n",
    "For example, factorial is a function that lends itself to recursion because 4! is the same as 4&ast;3!. Some of the sort algorithms from <b>[Lesson 2](Lesson%202%20-%20Sorting.ipynb)</b> also have elegant solutions when using recursion.  \n",
    "<br>\n",
    "An important thing to remember about recursive functions is that they <b>MUST</b> have a stopping condition. Without this stopping condition, the algorithm could run until it consumes all available resources. The stopping condition can be a simple <b>if</b> statement that returns without executing another recursive call. For example:  \n",
    "`\n",
    "if n < 1:\n",
    "  return 1\n",
    "`  \n",
    "could be the stopping condition for a recursive algorithm.  \n",
    "<br>\n",
    "## Factorial Using Looping\n"
   ]
  }
 ],
 "metadata": {
  "kernelspec": {
   "display_name": "Python 3",
   "language": "python",
   "name": "python3"
  },
  "language_info": {
   "codemirror_mode": {
    "name": "ipython",
    "version": 3
   },
   "file_extension": ".py",
   "mimetype": "text/x-python",
   "name": "python",
   "nbconvert_exporter": "python",
   "pygments_lexer": "ipython3",
   "version": "3.7.1"
  }
 },
 "nbformat": 4,
 "nbformat_minor": 2
}
