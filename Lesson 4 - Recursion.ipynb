{
 "cells": [
  {
   "cell_type": "code",
   "execution_count": null,
   "metadata": {},
   "outputs": [],
   "source": [
    "import lesson4.main"
   ]
  },
  {
   "cell_type": "markdown",
   "metadata": {},
   "source": [
    "# Lesson 4 - Recursion\n",
    "Recursion is when functions call themselves. Instead of writing loops, some problems can be solved more elegantly by using recursion. In this lesson you will learn about how recursion works and have an opportunity to rewrite some of the algorithms from previous lessons using recursion."
   ]
  },
  {
   "cell_type": "markdown",
   "metadata": {},
   "source": [
    "## When To Use Recursion\n",
    "First, there is a caveat regarding recursion. Depending on the system, and how recursion is supported, sometimes it is not very efficient to solve a problem recursively. Having said that, the functions that lend themselves best to recursion are those functions where the output of <b>x</b> is based on the function of <b>x - 1</b>.  \n",
    "<br>\n",
    "For example, factorial is a function that lends itself to recursion because 4! is the same as 4&ast;3!. Some of the sort algorithms from <b>[Lesson 2](Lesson%202%20-%20Sorting.ipynb)</b> also have elegant solutions when using recursion.  \n",
    "<br>\n",
    "An important thing to remember about recursive functions is that they <b>MUST</b> have a stopping condition. Without this stopping condition, the algorithm could run until it consumes all available resources. The stopping condition can be a simple <b>if</b> statement that returns without executing another recursive call. For example:  \n",
    "`\n",
    "if n < 1:\n",
    "  return 1\n",
    "`  \n",
    "could be the stopping condition for a recursive algorithm.  \n",
    "<br>\n",
    "## Factorial Using Looping\n",
    "__Pseudocode__  \n",
    "<pre>\n",
    "Initialize result to 1\n",
    "While n > 0\n",
    "  Set result to result * n\n",
    "  Decrement n by 1\n",
    "</pre>`"
   ]
  },
  {
   "cell_type": "code",
   "execution_count": null,
   "metadata": {},
   "outputs": [],
   "source": [
    "# This is an example of factorial using loops\n",
    "def factorial_loops(n):\n",
    "    result = 1\n",
    "    while n > 0:\n",
    "        result *= n\n",
    "        n -= 1\n",
    "    return result\n",
    "\n",
    "factorial_loops(7)"
   ]
  },
  {
   "cell_type": "markdown",
   "metadata": {},
   "source": [
    "## Factorial Using Recursion\n",
    "__Pseudocode__  \n",
    "<pre>\n",
    "If n = 1\n",
    "  Return 1\n",
    "Return n * factorial(n-1)\n",
    "</pre>"
   ]
  },
  {
   "cell_type": "code",
   "execution_count": null,
   "metadata": {},
   "outputs": [],
   "source": [
    "# This is an example of factorial using recursion\n",
    "def factorial_recursive(n):\n",
    "    if n == 1:\n",
    "        return n\n",
    "    return n * factorial_recursive(n-1)\n",
    "\n",
    "factorial_recursive(7)"
   ]
  },
  {
   "cell_type": "markdown",
   "metadata": {},
   "source": [
    "It might not be clear at first what the advantage is to the recursive version of factorial. Notice, thought, that no variable is required to store the result and we don't have to keep track of the value of n. All we have to do is note that when n is 1 we should just return n. One other thing to note is that both the looping and the recursive implementations only work for positive values. If you want, try to work out implementations that are correct for negative values as well. If you get stuck you can create a new cell and type <b><i>%load lesson4/factorial_example.py</i></b>.  \n",
    "## Fibonacci Using Recursion\n",
    "Now see if you can create an implementation of the [Fibonacci](https://en.wikipedia.org/wiki/Fibonacci_number) sequence using recursion. Remember you will need a stopping condition. *Hint: the stopping condition may not be a single value*."
   ]
  },
  {
   "cell_type": "code",
   "execution_count": null,
   "metadata": {},
   "outputs": [],
   "source": [
    "# Try to create an implementation of the Fibonacci sequence on your own.\n",
    "# Just return the nth element (1 based, not 0 based) in the sequence: 1, 1, 2, 3, 5, 8, 13...\n",
    "# For a hint:\n",
    "#   Type '%hint fib <x>' (without the quotes) where <x> is a number between from 1 to 3\n",
    "#   Execute the cell\n",
    "# If you get stuck and want an example:\n",
    "#   Create an empty cell\n",
    "#   Type '%load lesson4/fibonacci_recursive_example.py' (without the quotes)\n",
    "#   Execute the cell (to run the sample algorithm execute the cell a second time once the code is loaded)\n",
    "def fibonacci_recursive(n):\n",
    "    pass\n",
    "\n",
    "fibonacci_recursive(8)"
   ]
  },
  {
   "cell_type": "markdown",
   "metadata": {},
   "source": [
    "## Quick Sort Using Recursion\n",
    "As a last example we will revisit the quick sort algorithm. As mentioned in __[Lesson 2]()__, quick sort is frequently implemented with a recursive algorithm rather than using loops. As a quick refresher, the quick sort breaks the list into smaller and smaller segments and then 'reassembles' the elements in sorted order. See if you can implement the quick sort using a recursive (and arguably more elegant) solution."
   ]
  },
  {
   "cell_type": "code",
   "execution_count": null,
   "metadata": {},
   "outputs": [],
   "source": [
    "unsorted_list = [1, 9, 3, 0, 6]\n",
    "# Try to create an implementation of the quick sort algorithm on your own.\n",
    "# For a hint:\n",
    "#   Type '%hint qs <x>' (without the quotes) where <x> is a number between from 1 to 3\n",
    "#   Execute the cell\n",
    "# If you get stuck and want an example:\n",
    "#   Create an empty cell\n",
    "#   Type '%load lesson4/quick_sort_recursive_example.py' (without the quotes)\n",
    "#   Execute the cell (to run the sample algorithm execute the cell a second time once the code is loaded)\n",
    "def quick_sort_recursive(items):\n",
    "    pass\n",
    "\n",
    "sorted_list = quick_sort_recursive(unsorted_list)\n",
    "sorted_list"
   ]
  }
 ],
 "metadata": {
  "kernelspec": {
   "display_name": "Python 3",
   "language": "python",
   "name": "python3"
  },
  "language_info": {
   "codemirror_mode": {
    "name": "ipython",
    "version": 3
   },
   "file_extension": ".py",
   "mimetype": "text/x-python",
   "name": "python",
   "nbconvert_exporter": "python",
   "pygments_lexer": "ipython3",
   "version": "3.6.7"
  }
 },
 "nbformat": 4,
 "nbformat_minor": 2
}
